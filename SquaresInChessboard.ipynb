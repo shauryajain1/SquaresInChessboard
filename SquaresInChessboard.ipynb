{
  "nbformat": 4,
  "nbformat_minor": 0,
  "metadata": {
    "colab": {
      "provenance": [],
      "authorship_tag": "ABX9TyMHVaGS3wKkMASuqf0Qk8lh",
      "include_colab_link": true
    },
    "kernelspec": {
      "name": "python3",
      "display_name": "Python 3"
    },
    "language_info": {
      "name": "python"
    }
  },
  "cells": [
    {
      "cell_type": "markdown",
      "metadata": {
        "id": "view-in-github",
        "colab_type": "text"
      },
      "source": [
        "<a href=\"https://colab.research.google.com/github/shauryajain1/SquaresInChessboard/blob/main/SquaresInChessboard.ipynb\" target=\"_parent\"><img src=\"https://colab.research.google.com/assets/colab-badge.svg\" alt=\"Open In Colab\"/></a>"
      ]
    },
    {
      "cell_type": "code",
      "execution_count": 3,
      "metadata": {
        "colab": {
          "base_uri": "https://localhost:8080/"
        },
        "id": "ADS9v-uVlrF0",
        "outputId": "b5df5e11-74db-425d-c7ce-1504c12df1e7"
      },
      "outputs": [
        {
          "output_type": "stream",
          "name": "stdout",
          "text": [
            "Enter the Number of squares 8\n",
            "204\n"
          ]
        }
      ],
      "source": [
        "n= int(input(\"Enter the Number of squares \"))\n",
        "#for chesboard n=8\n",
        "total=0\n",
        "for i in range(1,n+1):\n",
        "    total+= i*i\n",
        "print(total)\n"
      ]
    },
    {
      "cell_type": "code",
      "source": [],
      "metadata": {
        "id": "J9JdHoLvpBca"
      },
      "execution_count": null,
      "outputs": []
    }
  ]
}